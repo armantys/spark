{
 "cells": [
  {
   "cell_type": "code",
   "execution_count": 2,
   "metadata": {},
   "outputs": [
    {
     "name": "stdout",
     "output_type": "stream",
     "text": [
      "+-----+---------+-----------+---------+-------+----+---------------+------------+---------+----------+-----------+----------+------------------------+------------------------+----------------------+----------------------+---------+----------+-----------+---------+-----------------+----------+-------+\n",
      "|class|cap-shape|cap-surface|cap-color|bruises|odor|gill-attachment|gill-spacing|gill-size|gill-color|stalk-shape|stalk-root|stalk-surface-above-ring|stalk-surface-below-ring|stalk-color-above-ring|stalk-color-below-ring|veil-type|veil-color|ring-number|ring-type|spore-print-color|population|habitat|\n",
      "+-----+---------+-----------+---------+-------+----+---------------+------------+---------+----------+-----------+----------+------------------------+------------------------+----------------------+----------------------+---------+----------+-----------+---------+-----------------+----------+-------+\n",
      "|    p|        x|          s|        n|      t|   p|              f|           c|        n|         k|          e|         e|                       s|                       s|                     w|                     w|        p|         w|          o|        p|                k|         s|      u|\n",
      "|    e|        x|          s|        y|      t|   a|              f|           c|        b|         k|          e|         c|                       s|                       s|                     w|                     w|        p|         w|          o|        p|                n|         n|      g|\n",
      "|    e|        b|          s|        w|      t|   l|              f|           c|        b|         n|          e|         c|                       s|                       s|                     w|                     w|        p|         w|          o|        p|                n|         n|      m|\n",
      "|    p|        x|          y|        w|      t|   p|              f|           c|        n|         n|          e|         e|                       s|                       s|                     w|                     w|        p|         w|          o|        p|                k|         s|      u|\n",
      "|    e|        x|          s|        g|      f|   n|              f|           w|        b|         k|          t|         e|                       s|                       s|                     w|                     w|        p|         w|          o|        e|                n|         a|      g|\n",
      "|    e|        x|          y|        y|      t|   a|              f|           c|        b|         n|          e|         c|                       s|                       s|                     w|                     w|        p|         w|          o|        p|                k|         n|      g|\n",
      "|    e|        b|          s|        w|      t|   a|              f|           c|        b|         g|          e|         c|                       s|                       s|                     w|                     w|        p|         w|          o|        p|                k|         n|      m|\n",
      "|    e|        b|          y|        w|      t|   l|              f|           c|        b|         n|          e|         c|                       s|                       s|                     w|                     w|        p|         w|          o|        p|                n|         s|      m|\n",
      "|    p|        x|          y|        w|      t|   p|              f|           c|        n|         p|          e|         e|                       s|                       s|                     w|                     w|        p|         w|          o|        p|                k|         v|      g|\n",
      "|    e|        b|          s|        y|      t|   a|              f|           c|        b|         g|          e|         c|                       s|                       s|                     w|                     w|        p|         w|          o|        p|                k|         s|      m|\n",
      "|    e|        x|          y|        y|      t|   l|              f|           c|        b|         g|          e|         c|                       s|                       s|                     w|                     w|        p|         w|          o|        p|                n|         n|      g|\n",
      "|    e|        x|          y|        y|      t|   a|              f|           c|        b|         n|          e|         c|                       s|                       s|                     w|                     w|        p|         w|          o|        p|                k|         s|      m|\n",
      "|    e|        b|          s|        y|      t|   a|              f|           c|        b|         w|          e|         c|                       s|                       s|                     w|                     w|        p|         w|          o|        p|                n|         s|      g|\n",
      "|    p|        x|          y|        w|      t|   p|              f|           c|        n|         k|          e|         e|                       s|                       s|                     w|                     w|        p|         w|          o|        p|                n|         v|      u|\n",
      "|    e|        x|          f|        n|      f|   n|              f|           w|        b|         n|          t|         e|                       s|                       f|                     w|                     w|        p|         w|          o|        e|                k|         a|      g|\n",
      "|    e|        s|          f|        g|      f|   n|              f|           c|        n|         k|          e|         e|                       s|                       s|                     w|                     w|        p|         w|          o|        p|                n|         y|      u|\n",
      "|    e|        f|          f|        w|      f|   n|              f|           w|        b|         k|          t|         e|                       s|                       s|                     w|                     w|        p|         w|          o|        e|                n|         a|      g|\n",
      "|    p|        x|          s|        n|      t|   p|              f|           c|        n|         n|          e|         e|                       s|                       s|                     w|                     w|        p|         w|          o|        p|                k|         s|      g|\n",
      "|    p|        x|          y|        w|      t|   p|              f|           c|        n|         n|          e|         e|                       s|                       s|                     w|                     w|        p|         w|          o|        p|                n|         s|      u|\n",
      "|    p|        x|          s|        n|      t|   p|              f|           c|        n|         k|          e|         e|                       s|                       s|                     w|                     w|        p|         w|          o|        p|                n|         s|      u|\n",
      "+-----+---------+-----------+---------+-------+----+---------------+------------+---------+----------+-----------+----------+------------------------+------------------------+----------------------+----------------------+---------+----------+-----------+---------+-----------------+----------+-------+\n",
      "only showing top 20 rows\n",
      "\n"
     ]
    }
   ],
   "source": [
    "from pyspark.sql import SparkSession\n",
    "\n",
    "# Créer une session Spark\n",
    "spark = SparkSession.builder.appName(\"Mushroom Classification\").getOrCreate()\n",
    "\n",
    "# Charger le fichier CSV\n",
    "df = spark.read.csv(\"mushrooms.csv\", header=True, inferSchema=True)\n",
    "df.show()"
   ]
  },
  {
   "cell_type": "code",
   "execution_count": 3,
   "metadata": {},
   "outputs": [
    {
     "name": "stdout",
     "output_type": "stream",
     "text": [
      "+---------------+-----------------+---------------+-------------+----------+---------------------+------------------+---------------+----------------+-----------------+----------------+------------------------------+------------------------------+----------------------------+----------------------------+---------------+----------------+-----------------+---------------+-----------------------+----------------+-------------+-----------+-----+\n",
      "|cap-shape_index|cap-surface_index|cap-color_index|bruises_index|odor_index|gill-attachment_index|gill-spacing_index|gill-size_index|gill-color_index|stalk-shape_index|stalk-root_index|stalk-surface-above-ring_index|stalk-surface-below-ring_index|stalk-color-above-ring_index|stalk-color-below-ring_index|veil-type_index|veil-color_index|ring-number_index|ring-type_index|spore-print-color_index|population_index|habitat_index|label_index|label|\n",
      "+---------------+-----------------+---------------+-------------+----------+---------------------+------------------+---------------+----------------+-----------------+----------------+------------------------------+------------------------------+----------------------------+----------------------------+---------------+----------------+-----------------+---------------+-----------------------+----------------+-------------+-----------+-----+\n",
      "|            0.0|              1.0|            0.0|          1.0|       6.0|                  0.0|               0.0|            1.0|             7.0|              1.0|             2.0|                           0.0|                           0.0|                         0.0|                         0.0|            0.0|             0.0|              0.0|            0.0|                    2.0|             2.0|          4.0|        1.0|  1.0|\n",
      "|            0.0|              1.0|            3.0|          1.0|       4.0|                  0.0|               0.0|            0.0|             7.0|              1.0|             3.0|                           0.0|                           0.0|                         0.0|                         0.0|            0.0|             0.0|              0.0|            0.0|                    1.0|             3.0|          1.0|        0.0|  0.0|\n",
      "|            3.0|              1.0|            4.0|          1.0|       5.0|                  0.0|               0.0|            0.0|             3.0|              1.0|             3.0|                           0.0|                           0.0|                         0.0|                         0.0|            0.0|             0.0|              0.0|            0.0|                    1.0|             3.0|          5.0|        0.0|  0.0|\n",
      "|            0.0|              0.0|            4.0|          1.0|       6.0|                  0.0|               0.0|            1.0|             3.0|              1.0|             2.0|                           0.0|                           0.0|                         0.0|                         0.0|            0.0|             0.0|              0.0|            0.0|                    2.0|             2.0|          4.0|        1.0|  1.0|\n",
      "|            0.0|              1.0|            1.0|          0.0|       0.0|                  0.0|               1.0|            0.0|             7.0|              0.0|             2.0|                           0.0|                           0.0|                         0.0|                         0.0|            0.0|             0.0|              0.0|            1.0|                    1.0|             4.0|          1.0|        0.0|  0.0|\n",
      "|            0.0|              0.0|            3.0|          1.0|       4.0|                  0.0|               0.0|            0.0|             3.0|              1.0|             3.0|                           0.0|                           0.0|                         0.0|                         0.0|            0.0|             0.0|              0.0|            0.0|                    2.0|             3.0|          1.0|        0.0|  0.0|\n",
      "|            3.0|              1.0|            4.0|          1.0|       4.0|                  0.0|               0.0|            0.0|             4.0|              1.0|             3.0|                           0.0|                           0.0|                         0.0|                         0.0|            0.0|             0.0|              0.0|            0.0|                    2.0|             3.0|          5.0|        0.0|  0.0|\n",
      "|            3.0|              0.0|            4.0|          1.0|       5.0|                  0.0|               0.0|            0.0|             3.0|              1.0|             3.0|                           0.0|                           0.0|                         0.0|                         0.0|            0.0|             0.0|              0.0|            0.0|                    1.0|             2.0|          5.0|        0.0|  0.0|\n",
      "|            0.0|              0.0|            4.0|          1.0|       6.0|                  0.0|               0.0|            1.0|             1.0|              1.0|             2.0|                           0.0|                           0.0|                         0.0|                         0.0|            0.0|             0.0|              0.0|            0.0|                    2.0|             0.0|          1.0|        1.0|  1.0|\n",
      "|            3.0|              1.0|            3.0|          1.0|       4.0|                  0.0|               0.0|            0.0|             4.0|              1.0|             3.0|                           0.0|                           0.0|                         0.0|                         0.0|            0.0|             0.0|              0.0|            0.0|                    2.0|             2.0|          5.0|        0.0|  0.0|\n",
      "|            0.0|              0.0|            3.0|          1.0|       5.0|                  0.0|               0.0|            0.0|             4.0|              1.0|             3.0|                           0.0|                           0.0|                         0.0|                         0.0|            0.0|             0.0|              0.0|            0.0|                    1.0|             3.0|          1.0|        0.0|  0.0|\n",
      "|            0.0|              0.0|            3.0|          1.0|       4.0|                  0.0|               0.0|            0.0|             3.0|              1.0|             3.0|                           0.0|                           0.0|                         0.0|                         0.0|            0.0|             0.0|              0.0|            0.0|                    2.0|             2.0|          5.0|        0.0|  0.0|\n",
      "|            3.0|              1.0|            3.0|          1.0|       4.0|                  0.0|               0.0|            0.0|             2.0|              1.0|             3.0|                           0.0|                           0.0|                         0.0|                         0.0|            0.0|             0.0|              0.0|            0.0|                    1.0|             2.0|          1.0|        0.0|  0.0|\n",
      "|            0.0|              0.0|            4.0|          1.0|       6.0|                  0.0|               0.0|            1.0|             7.0|              1.0|             2.0|                           0.0|                           0.0|                         0.0|                         0.0|            0.0|             0.0|              0.0|            0.0|                    1.0|             0.0|          4.0|        1.0|  1.0|\n",
      "|            0.0|              2.0|            0.0|          0.0|       0.0|                  0.0|               1.0|            0.0|             3.0|              0.0|             2.0|                           0.0|                           2.0|                         0.0|                         0.0|            0.0|             0.0|              0.0|            1.0|                    2.0|             4.0|          1.0|        0.0|  0.0|\n",
      "|            4.0|              2.0|            1.0|          0.0|       0.0|                  0.0|               0.0|            1.0|             7.0|              1.0|             2.0|                           0.0|                           0.0|                         0.0|                         0.0|            0.0|             0.0|              0.0|            0.0|                    1.0|             1.0|          4.0|        0.0|  0.0|\n",
      "|            1.0|              2.0|            4.0|          0.0|       0.0|                  0.0|               1.0|            0.0|             7.0|              0.0|             2.0|                           0.0|                           0.0|                         0.0|                         0.0|            0.0|             0.0|              0.0|            1.0|                    1.0|             4.0|          1.0|        0.0|  0.0|\n",
      "|            0.0|              1.0|            0.0|          1.0|       6.0|                  0.0|               0.0|            1.0|             3.0|              1.0|             2.0|                           0.0|                           0.0|                         0.0|                         0.0|            0.0|             0.0|              0.0|            0.0|                    2.0|             2.0|          1.0|        1.0|  1.0|\n",
      "|            0.0|              0.0|            4.0|          1.0|       6.0|                  0.0|               0.0|            1.0|             3.0|              1.0|             2.0|                           0.0|                           0.0|                         0.0|                         0.0|            0.0|             0.0|              0.0|            0.0|                    1.0|             2.0|          4.0|        1.0|  1.0|\n",
      "|            0.0|              1.0|            0.0|          1.0|       6.0|                  0.0|               0.0|            1.0|             7.0|              1.0|             2.0|                           0.0|                           0.0|                         0.0|                         0.0|            0.0|             0.0|              0.0|            0.0|                    1.0|             2.0|          4.0|        1.0|  1.0|\n",
      "+---------------+-----------------+---------------+-------------+----------+---------------------+------------------+---------------+----------------+-----------------+----------------+------------------------------+------------------------------+----------------------------+----------------------------+---------------+----------------+-----------------+---------------+-----------------------+----------------+-------------+-----------+-----+\n",
      "only showing top 20 rows\n",
      "\n"
     ]
    }
   ],
   "source": [
    "from pyspark.ml.feature import StringIndexer\n",
    "\n",
    "# Indexer la colonne de classe (venimeux ou non)\n",
    "indexer = StringIndexer(inputCol=\"class\", outputCol=\"label\")\n",
    "df = indexer.fit(df).transform(df)\n",
    "\n",
    "# Indexer les autres colonnes catégorielles\n",
    "categorical_cols = df.columns[1:]  # toutes les colonnes sauf 'class' et 'label'\n",
    "for col in categorical_cols:\n",
    "    indexer = StringIndexer(inputCol=col, outputCol=col + \"_index\")\n",
    "    df = indexer.fit(df).transform(df)\n",
    "\n",
    "# Créer un nouveau DataFrame avec les colonnes indexées\n",
    "indexed_columns = [col + \"_index\" for col in categorical_cols] + [\"label\"]\n",
    "df_indexed = df.select(indexed_columns)\n",
    "df_indexed.show()"
   ]
  },
  {
   "cell_type": "code",
   "execution_count": 4,
   "metadata": {},
   "outputs": [],
   "source": [
    "from pyspark.ml.feature import VectorAssembler\n",
    "\n",
    "assembler = VectorAssembler(inputCols=indexed_columns[:-1], outputCol=\"features\")\n",
    "data = assembler.transform(df_indexed)\n",
    "\n",
    "# Séparer les données en ensembles d'entraînement et de test\n",
    "train_data, test_data = data.randomSplit([0.8, 0.2], seed=42)"
   ]
  },
  {
   "cell_type": "code",
   "execution_count": 12,
   "metadata": {},
   "outputs": [],
   "source": [
    "from pyspark.ml.classification import RandomForestClassifier\n",
    "\n",
    "rf = RandomForestClassifier(labelCol=\"label\", featuresCol=\"features\")\n",
    "rf_model = rf.fit(train_data)"
   ]
  },
  {
   "cell_type": "code",
   "execution_count": 10,
   "metadata": {},
   "outputs": [
    {
     "name": "stdout",
     "output_type": "stream",
     "text": [
      "+--------------------+-----+----------+\n",
      "|            features|label|prediction|\n",
      "+--------------------+-----+----------+\n",
      "|(23,[7,8,9,10,11,...|  1.0|       1.0|\n",
      "|(23,[6,7,8,9,11,1...|  0.0|       0.0|\n",
      "|(23,[4,7,10,18,22...|  1.0|       1.0|\n",
      "|(23,[4,7,10,14,18...|  1.0|       1.0|\n",
      "|(23,[4,7,10,13,14...|  1.0|       1.0|\n",
      "|(23,[4,7,10,12,14...|  1.0|       1.0|\n",
      "|(23,[4,7,10,12,13...|  1.0|       1.0|\n",
      "|(23,[4,7,10,11,14...|  1.0|       1.0|\n",
      "|(23,[4,7,10,11,12...|  1.0|       1.0|\n",
      "|(23,[4,7,10,11,12...|  1.0|       1.0|\n",
      "|(23,[4,7,10,11,12...|  1.0|       1.0|\n",
      "|(23,[4,7,10,11,12...|  1.0|       1.0|\n",
      "|(23,[4,7,10,11,12...|  1.0|       1.0|\n",
      "|(23,[4,7,10,11,12...|  1.0|       1.0|\n",
      "|(23,[4,7,10,13,18...|  1.0|       1.0|\n",
      "|(23,[4,7,10,12,18...|  1.0|       1.0|\n",
      "|(23,[4,7,10,12,13...|  1.0|       1.0|\n",
      "|(23,[4,7,10,11,12...|  1.0|       1.0|\n",
      "|(23,[4,7,10,13,18...|  1.0|       1.0|\n",
      "|(23,[4,7,10,12,18...|  1.0|       1.0|\n",
      "+--------------------+-----+----------+\n",
      "only showing top 20 rows\n",
      "\n"
     ]
    }
   ],
   "source": [
    "predictions = rf_model.transform(test_data)\n",
    "predictions.select(\"features\", \"label\", \"prediction\").show()"
   ]
  },
  {
   "cell_type": "code",
   "execution_count": 8,
   "metadata": {},
   "outputs": [
    {
     "name": "stdout",
     "output_type": "stream",
     "text": [
      "Accuracy: 1.0\n"
     ]
    }
   ],
   "source": [
    "from pyspark.ml.evaluation import MulticlassClassificationEvaluator\n",
    "\n",
    "evaluator = MulticlassClassificationEvaluator(labelCol=\"label\", predictionCol=\"prediction\", metricName=\"accuracy\")\n",
    "accuracy = evaluator.evaluate(predictions)\n",
    "print(f\"Accuracy: {accuracy}\")"
   ]
  }
 ],
 "metadata": {
  "kernelspec": {
   "display_name": "Python 3",
   "language": "python",
   "name": "python3"
  },
  "language_info": {
   "codemirror_mode": {
    "name": "ipython",
    "version": 3
   },
   "file_extension": ".py",
   "mimetype": "text/x-python",
   "name": "python",
   "nbconvert_exporter": "python",
   "pygments_lexer": "ipython3",
   "version": "3.11.7"
  }
 },
 "nbformat": 4,
 "nbformat_minor": 2
}
